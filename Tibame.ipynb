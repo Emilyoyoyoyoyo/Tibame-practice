{
  "nbformat": 4,
  "nbformat_minor": 0,
  "metadata": {
    "colab": {
      "provenance": [],
      "authorship_tag": "ABX9TyM6/mu4X8jvKHZEycSiAWce",
      "include_colab_link": true
    },
    "kernelspec": {
      "name": "python3",
      "display_name": "Python 3"
    },
    "language_info": {
      "name": "python"
    }
  },
  "cells": [
    {
      "cell_type": "markdown",
      "metadata": {
        "id": "view-in-github",
        "colab_type": "text"
      },
      "source": [
        "<a href=\"https://colab.research.google.com/github/Emilyoyoyoyoyo/Tibame-practice/blob/main/Tibame.ipynb\" target=\"_parent\"><img src=\"https://colab.research.google.com/assets/colab-badge.svg\" alt=\"Open In Colab\"/></a>"
      ]
    },
    {
      "cell_type": "code",
      "execution_count": null,
      "metadata": {
        "colab": {
          "base_uri": "https://localhost:8080/"
        },
        "id": "eTNXr7HPa04l",
        "outputId": "68a3cbb9-678d-4193-deef-c7c6e8d24747"
      },
      "outputs": [
        {
          "output_type": "stream",
          "name": "stdout",
          "text": [
            "請輸入體重：60\n",
            "請輸入身高：163\n",
            "你的體重是60.0\n",
            "你的身高是：163.0\n",
            "bmi是：22.582709172343712\n",
            "正常\n"
          ]
        }
      ],
      "source": [
        "# bmi = weight(kg) / height(m)^2\n",
        "weight = float(input(\"請輸入體重：\"))\n",
        "height = float(input(\"請輸入身高：\"))\n",
        "bmi = weight / (height/100)**2\n",
        "print('你的體重是'+str(weight))\n",
        "print('你的身高是：'+str(height))\n",
        "print('bmi是：'+str(bmi))\n",
        "\n",
        "if bmi > 25:\n",
        "    print('過重')\n",
        "    print('少吃多動')\n",
        "else:\n",
        "    print('正常')"
      ]
    },
    {
      "cell_type": "code",
      "source": [
        "import random\n",
        "\n",
        "my = int(input('0.剪刀 1.石頭 2.布：'))\n",
        "com = random.randint(0, 2)\n",
        "trans = ['剪刀', '石頭', '布']\n",
        "print('我出的：', trans[my])\n",
        "print('電腦出的：'+ trans[com])\n",
        "\n",
        "#輪迴＝取餘數\n",
        "if my == (com+1) % 3:\n",
        "    print('win')\n",
        "elif com == (my+1) % 3:\n",
        "    print('lose')\n",
        "else:\n",
        "    print('even')\n",
        "print(\"!!!\")"
      ],
      "metadata": {
        "colab": {
          "base_uri": "https://localhost:8080/"
        },
        "id": "UdEnOoagfSRx",
        "outputId": "22fff2e4-043d-4308-dad1-7d884d2309c1"
      },
      "execution_count": null,
      "outputs": [
        {
          "output_type": "stream",
          "name": "stdout",
          "text": [
            "0.剪刀 1.石頭 2.布：1\n",
            "我出的： 石頭\n",
            "電腦出的：剪刀\n",
            "win\n",
            "!!!\n"
          ]
        }
      ]
    },
    {
      "cell_type": "code",
      "source": [
        " # 0~2為一組，3~5為一組，組內可比較（0>2, 1>0, 2>1, 4>3, 5>4, 3>5)，不同組就平手（作業）\n",
        "import random\n",
        "\n",
        "my = int(input('0~5：'))\n",
        "com = random.randint(0, 5)\n",
        "trans = ['0', '1', '2', '3', '4', '5']\n",
        "print('我出的：', trans[my])\n",
        "print('電腦出的：'+ trans[com])\n",
        "\n",
        "# 分組＝取商數，先分組，將3~5回到0~2（的位置）\n",
        "# 第一步：先確定兩個數字是否同組\n",
        "# 0 // 3 : 0\n",
        "# 1 // 3 : 0\n",
        "# 2 // 3 : 0\n",
        "# 3 // 3 : 1\n",
        "# 4 // 3 : 1\n",
        "# 5 // 3 : 1\n",
        "# 6 // 3 : 2\n",
        "mygroup = my // 3\n",
        "comgroup = com // 3\n",
        "\n",
        "# if 同一組:在0~2組\n",
        "if mygroup == comgroup:\n",
        "    if my == (com+1) % 3:\n",
        "        print('win')\n",
        "    elif com == (my+1) % 3:\n",
        "        print('lose')\n",
        "    else:\n",
        "        print('even')\n",
        "\n",
        "# elif 同一組:在3~5組，兩邊取餘數才可以比較（回到0~2)\n",
        "elif mygroup == comgroup:\n",
        "    if my % 3 == (com+1) % 3:\n",
        "        print('win')\n",
        "    elif com % 3 == (my+1) % 3:\n",
        "        print('lose')\n",
        "    else:\n",
        "        print('even')\n",
        "\n",
        "# else不同組\n",
        "else:\n",
        "    print('even')"
      ],
      "metadata": {
        "colab": {
          "base_uri": "https://localhost:8080/"
        },
        "id": "faQL4EouxoHJ",
        "outputId": "04c26372-ccc3-4444-9f3b-3778baa6fe92"
      },
      "execution_count": null,
      "outputs": [
        {
          "output_type": "stream",
          "name": "stdout",
          "text": [
            "0~5：0\n",
            "我出的： 0\n",
            "電腦出的：4\n",
            "even\n"
          ]
        }
      ]
    },
    {
      "cell_type": "code",
      "source": [
        "先超過數量（商數），才有$還給對方（餘數）\n",
        "-1 % 3 = -1...2 #拿了$3還給對方$2\n",
        "-7 % 3 = -3...2 #拿了$9還給對方$2"
      ],
      "metadata": {
        "id": "M2gRol7TH02q"
      },
      "execution_count": null,
      "outputs": []
    },
    {
      "cell_type": "markdown",
      "source": [
        "Latex Math\n",
        "\n",
        "$ a = \\sum_{i=0}^{n}  \\frac{1}{n+1} $\n"
      ],
      "metadata": {
        "id": "oy2Gyh5viZDb"
      }
    },
    {
      "cell_type": "code",
      "source": [
        "#這三行永遠不變（更改print，次數不變）\n",
        "i = 0\n",
        "while i < 10:\n",
        "    print(i)\n",
        "    i = i + 1 #只有i的定義會改變\n",
        "\n",
        "#例題 1,3,5,7,9\n",
        "i = 0\n",
        "while i < 10:\n",
        "    print(2 * i + 1)\n",
        "    i = i + 1\n",
        "\n",
        "#例題 50, 47, 44...\n",
        "i = 0\n",
        "while i < 10:\n",
        "    print(50 - 3 * i)\n",
        "    i = i + 1\n",
        "\n",
        "#例題 10~0\n",
        "i = 0\n",
        "while i < 10:\n",
        "    print(10 - i)\n",
        "    i = i + 1"
      ],
      "metadata": {
        "id": "TiOLRub6QZWO"
      },
      "execution_count": null,
      "outputs": []
    },
    {
      "cell_type": "code",
      "source": [
        "i = 0\n",
        "while i < 10:\n",
        "    print('x' * (i + 1) + ' ' * (10-1-i))\n",
        "    i = i + 1"
      ],
      "metadata": {
        "colab": {
          "base_uri": "https://localhost:8080/"
        },
        "id": "OLlfNLTccX3Z",
        "outputId": "e69dbbbb-650e-41d7-de17-6e53d2afbba0"
      },
      "execution_count": 6,
      "outputs": [
        {
          "output_type": "stream",
          "name": "stdout",
          "text": [
            "x         \n",
            "xx        \n",
            "xxx       \n",
            "xxxx      \n",
            "xxxxx     \n",
            "xxxxxx    \n",
            "xxxxxxx   \n",
            "xxxxxxxx  \n",
            "xxxxxxxxx \n",
            "xxxxxxxxxx\n"
          ]
        }
      ]
    },
    {
      "cell_type": "code",
      "source": [
        "i = 0\n",
        "while i < 10:\n",
        "    print(' ' * (10 - 1 - i) + 'o' * (i + 1) )\n",
        "    i = i + 1"
      ],
      "metadata": {
        "colab": {
          "base_uri": "https://localhost:8080/"
        },
        "id": "q9fKjV8Ecucv",
        "outputId": "4a48973f-050c-4f67-e85d-118dd0a8c6c6"
      },
      "execution_count": 5,
      "outputs": [
        {
          "output_type": "stream",
          "name": "stdout",
          "text": [
            "         o\n",
            "        oo\n",
            "       ooo\n",
            "      oooo\n",
            "     ooooo\n",
            "    oooooo\n",
            "   ooooooo\n",
            "  oooooooo\n",
            " ooooooooo\n",
            "oooooooooo\n"
          ]
        }
      ]
    },
    {
      "cell_type": "code",
      "source": [
        "height = 10\n",
        "lsymbol, rsymbol = \" \", \"o\"\n",
        "i = 0\n",
        "while i < height:\n",
        "    lcount = height -i -1\n",
        "    rcount = i + 1\n",
        "    print(lsymbol * lcount + rsymbol * rcount )\n",
        "    i = i + 1"
      ],
      "metadata": {
        "colab": {
          "base_uri": "https://localhost:8080/"
        },
        "id": "3uYUFtL3emoG",
        "outputId": "e2249978-a9ac-4677-968a-5107a84cb092"
      },
      "execution_count": 7,
      "outputs": [
        {
          "output_type": "stream",
          "name": "stdout",
          "text": [
            "         o\n",
            "        oo\n",
            "       ooo\n",
            "      oooo\n",
            "     ooooo\n",
            "    oooooo\n",
            "   ooooooo\n",
            "  oooooooo\n",
            " ooooooooo\n",
            "oooooooooo\n"
          ]
        }
      ]
    },
    {
      "cell_type": "code",
      "source": [
        "height = 10\n",
        "lsymbol, rsymbol = \" \", \"o\"\n",
        "i = 0\n",
        "while i < height:\n",
        "    lcount = i\n",
        "    rcount = height - i\n",
        "    print(lsymbol * lcount + rsymbol * rcount )\n",
        "    i = i + 1"
      ],
      "metadata": {
        "colab": {
          "base_uri": "https://localhost:8080/"
        },
        "id": "IDpu3p02gZaU",
        "outputId": "c6662702-39ba-45cd-c1f0-a4ca4afec320"
      },
      "execution_count": 9,
      "outputs": [
        {
          "output_type": "stream",
          "name": "stdout",
          "text": [
            "oooooooooo\n",
            " ooooooooo\n",
            "  oooooooo\n",
            "   ooooooo\n",
            "    oooooo\n",
            "     ooooo\n",
            "      oooo\n",
            "       ooo\n",
            "        oo\n",
            "         o\n"
          ]
        }
      ]
    },
    {
      "cell_type": "code",
      "source": [
        "height = 4\n",
        "lsymbol, rsymbol = \" \", \"o\"\n",
        "i = 0\n",
        "while i < height:\n",
        "    lcount = i\n",
        "    rcount = (height * 2 - 1) - i * 2\n",
        "    print(lsymbol * lcount + rsymbol * rcount + lsymbol * lcount)\n",
        "    i = i + 1"
      ],
      "metadata": {
        "colab": {
          "base_uri": "https://localhost:8080/"
        },
        "id": "5iXUKBUXhud7",
        "outputId": "029c7da5-5a6f-4e37-d113-4a4c28dd3fdb"
      },
      "execution_count": 10,
      "outputs": [
        {
          "output_type": "stream",
          "name": "stdout",
          "text": [
            "ooooooo\n",
            " ooooo \n",
            "  ooo  \n",
            "   o   \n"
          ]
        }
      ]
    },
    {
      "cell_type": "code",
      "source": [
        "height = 5\n",
        "i = 0\n",
        "while i < height:\n",
        "    #奇數層：i = 0, 2, 4, 6, 8\n",
        "    if i % 2 == 0:\n",
        "        lsymbol, msymbol, rsymbol = \".\", \"o\", \".\"\n",
        "    #偶數層：i % 2 == 1\n",
        "    else:\n",
        "        lsymbol, msymbol, rsymbol = \".\", \"x\", \".\"\n",
        "    lcount = i\n",
        "    mcount = (height * 2 - 1) - i * 2\n",
        "    rcount = i\n",
        "    print(lsymbol * lcount + msymbol * mcount + rsymbol * rcount)\n",
        "    i = i + 1"
      ],
      "metadata": {
        "colab": {
          "base_uri": "https://localhost:8080/"
        },
        "id": "gKf5bXN-m9F1",
        "outputId": "56d652fc-89fc-4728-e91a-d4ef6db0400f"
      },
      "execution_count": 14,
      "outputs": [
        {
          "output_type": "stream",
          "name": "stdout",
          "text": [
            "ooooooooo\n",
            ".xxxxxxx.\n",
            "..ooooo..\n",
            "...xxx...\n",
            "....o....\n"
          ]
        }
      ]
    },
    {
      "cell_type": "code",
      "source": [
        "#使用萬國馬編碼utf-8, \\u\n",
        "symbols = ['\\u2660','\\u2661','\\u2662','\\u2663']\n",
        "height = 5\n",
        "i = 0\n",
        "while i < height:\n",
        "    #符號\n",
        "    lsymbol = \" \"\n",
        "    msymbol = symbols[i%len(symbols)]\n",
        "    rsymbol = \" \"\n",
        "    #數目\n",
        "    lcount = i\n",
        "    mcount = (height * 2 - 1) - i * 2\n",
        "    rcount = i\n",
        "    print(lsymbol * lcount + msymbol * mcount + rsymbol * rcount)\n",
        "    i = i + 1"
      ],
      "metadata": {
        "colab": {
          "base_uri": "https://localhost:8080/"
        },
        "id": "WzFl25MXr0Sf",
        "outputId": "fd4c8ab2-c9fc-4605-f240-b8314bc7c1bd"
      },
      "execution_count": 16,
      "outputs": [
        {
          "output_type": "stream",
          "name": "stdout",
          "text": [
            "♠♠♠♠♠♠♠♠♠\n",
            " ♡♡♡♡♡♡♡ \n",
            "  ♢♢♢♢♢  \n",
            "   ♣♣♣   \n",
            "    ♠    \n"
          ]
        }
      ]
    }
  ]
}