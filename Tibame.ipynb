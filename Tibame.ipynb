{
  "nbformat": 4,
  "nbformat_minor": 0,
  "metadata": {
    "colab": {
      "provenance": [],
      "authorship_tag": "ABX9TyMWFf5CK7YHC4/NctqpyGx8",
      "include_colab_link": true
    },
    "kernelspec": {
      "name": "python3",
      "display_name": "Python 3"
    },
    "language_info": {
      "name": "python"
    }
  },
  "cells": [
    {
      "cell_type": "markdown",
      "metadata": {
        "id": "view-in-github",
        "colab_type": "text"
      },
      "source": [
        "<a href=\"https://colab.research.google.com/github/Emilyoyoyoyoyo/Tibame-practice/blob/main/Tibame.ipynb\" target=\"_parent\"><img src=\"https://colab.research.google.com/assets/colab-badge.svg\" alt=\"Open In Colab\"/></a>"
      ]
    },
    {
      "cell_type": "code",
      "execution_count": 5,
      "metadata": {
        "colab": {
          "base_uri": "https://localhost:8080/"
        },
        "id": "eTNXr7HPa04l",
        "outputId": "68a3cbb9-678d-4193-deef-c7c6e8d24747"
      },
      "outputs": [
        {
          "output_type": "stream",
          "name": "stdout",
          "text": [
            "請輸入體重：60\n",
            "請輸入身高：163\n",
            "你的體重是60.0\n",
            "你的身高是：163.0\n",
            "bmi是：22.582709172343712\n",
            "正常\n"
          ]
        }
      ],
      "source": [
        "# bmi = weight(kg) / height(m)^2\n",
        "weight = float(input(\"請輸入體重：\"))\n",
        "height = float(input(\"請輸入身高：\"))\n",
        "bmi = weight / (height/100)**2\n",
        "print('你的體重是'+str(weight))\n",
        "print('你的身高是：'+str(height))\n",
        "print('bmi是：'+str(bmi))\n",
        "\n",
        "if bmi > 25:\n",
        "    print('過重')\n",
        "    print('少吃多動')\n",
        "else:\n",
        "    print('正常')"
      ]
    },
    {
      "cell_type": "code",
      "source": [
        "import random\n",
        "\n",
        "my = int(input('0.剪刀 1.石頭 2.布：'))\n",
        "com = random.randint(0, 2)\n",
        "trans = ['剪刀', '石頭', '布']\n",
        "print('我出的：', trans[my])\n",
        "print('電腦出的：'+ trans[com])\n",
        "\n",
        "#輪迴＝取餘數\n",
        "if my == (com+1) % 3:\n",
        "    print('win')\n",
        "elif com == (my+1) % 3:\n",
        "    print('lose')\n",
        "else:\n",
        "    print('even')\n",
        "print(\"!!!\")"
      ],
      "metadata": {
        "colab": {
          "base_uri": "https://localhost:8080/"
        },
        "id": "UdEnOoagfSRx",
        "outputId": "22fff2e4-043d-4308-dad1-7d884d2309c1"
      },
      "execution_count": 15,
      "outputs": [
        {
          "output_type": "stream",
          "name": "stdout",
          "text": [
            "0.剪刀 1.石頭 2.布：1\n",
            "我出的： 石頭\n",
            "電腦出的：剪刀\n",
            "win\n",
            "!!!\n"
          ]
        }
      ]
    },
    {
      "cell_type": "code",
      "source": [
        " # 0~2為一組，3~5為一組，組內可比大小，不同組就平手（作業）\n",
        "import random\n",
        "\n",
        "my = int(input('0~5：'))\n",
        "com = random.randint(0, 5)\n",
        "trans = ['0', '1', '2', '3', '4', '5']\n",
        "print('我出的：', trans[my])\n",
        "print('電腦出的：'+ trans[com])\n",
        "\n",
        "# 分組＝取商，先分組，將3~5回到0~2（的位置）\n",
        "# 第一步：先確定兩個數字是否同組\n",
        "# 0 // 3 : 0\n",
        "# 1 // 3 : 0\n",
        "# 2 // 3 : 0\n",
        "# 3 // 3 : 1\n",
        "# 4 // 3 : 1\n",
        "# 5 // 3 : 1\n",
        "# 6 // 3 : 2\n",
        "mygroup = my // 3\n",
        "comgroup = com // 3\n",
        "\n",
        "# if 同一組:在0~2組\n",
        "if mygroup == comgroup:\n",
        "    if my == (com+1) % 3:\n",
        "        print('win')\n",
        "    elif com == (my+1) % 3:\n",
        "        print('lose')\n",
        "    else my == com:\n",
        "        print('even')\n",
        "\n",
        "# elif 同一組:在3~5組，兩邊取餘數才可以比較（回到0~2)\n",
        "elif mygroup == comgroup:\n",
        "    if my % 3 == (com+1) % 3:\n",
        "        print('win')\n",
        "    elif com % 3 == (my+1) % 3:\n",
        "        print('lose')\n",
        "    else my == com:\n",
        "        print('even')\n",
        "\n",
        "# else不同組\n",
        "else:\n",
        "    print('even')\n",
        "\n",
        "\n",
        "\n",
        "\n"
      ],
      "metadata": {
        "colab": {
          "base_uri": "https://localhost:8080/",
          "height": 357
        },
        "id": "faQL4EouxoHJ",
        "outputId": "e3671a99-4c71-46ba-ff7e-a670b61d5d51"
      },
      "execution_count": 17,
      "outputs": [
        {
          "output_type": "error",
          "ename": "KeyboardInterrupt",
          "evalue": "Interrupted by user",
          "traceback": [
            "\u001b[0;31m---------------------------------------------------------------------------\u001b[0m",
            "\u001b[0;31mKeyboardInterrupt\u001b[0m                         Traceback (most recent call last)",
            "\u001b[0;32m<ipython-input-17-a1ae9aa0d99f>\u001b[0m in \u001b[0;36m<cell line: 4>\u001b[0;34m()\u001b[0m\n\u001b[1;32m      2\u001b[0m \u001b[0;32mimport\u001b[0m \u001b[0mrandom\u001b[0m\u001b[0;34m\u001b[0m\u001b[0;34m\u001b[0m\u001b[0m\n\u001b[1;32m      3\u001b[0m \u001b[0;34m\u001b[0m\u001b[0m\n\u001b[0;32m----> 4\u001b[0;31m \u001b[0mmy\u001b[0m \u001b[0;34m=\u001b[0m \u001b[0mint\u001b[0m\u001b[0;34m(\u001b[0m\u001b[0minput\u001b[0m\u001b[0;34m(\u001b[0m\u001b[0;34m'0~5：'\u001b[0m\u001b[0;34m)\u001b[0m\u001b[0;34m)\u001b[0m\u001b[0;34m\u001b[0m\u001b[0;34m\u001b[0m\u001b[0m\n\u001b[0m\u001b[1;32m      5\u001b[0m \u001b[0mcom\u001b[0m \u001b[0;34m=\u001b[0m \u001b[0mrandom\u001b[0m\u001b[0;34m.\u001b[0m\u001b[0mrandint\u001b[0m\u001b[0;34m(\u001b[0m\u001b[0;36m0\u001b[0m\u001b[0;34m,\u001b[0m \u001b[0;36m5\u001b[0m\u001b[0;34m)\u001b[0m\u001b[0;34m\u001b[0m\u001b[0;34m\u001b[0m\u001b[0m\n\u001b[1;32m      6\u001b[0m \u001b[0mtrans\u001b[0m \u001b[0;34m=\u001b[0m \u001b[0;34m[\u001b[0m\u001b[0;34m'0'\u001b[0m\u001b[0;34m,\u001b[0m \u001b[0;34m'1'\u001b[0m\u001b[0;34m,\u001b[0m \u001b[0;34m'2'\u001b[0m\u001b[0;34m,\u001b[0m \u001b[0;34m'3'\u001b[0m\u001b[0;34m,\u001b[0m \u001b[0;34m'4'\u001b[0m\u001b[0;34m,\u001b[0m \u001b[0;34m'5'\u001b[0m\u001b[0;34m]\u001b[0m\u001b[0;34m\u001b[0m\u001b[0;34m\u001b[0m\u001b[0m\n",
            "\u001b[0;32m/usr/local/lib/python3.10/dist-packages/ipykernel/kernelbase.py\u001b[0m in \u001b[0;36mraw_input\u001b[0;34m(self, prompt)\u001b[0m\n\u001b[1;32m    849\u001b[0m                 \u001b[0;34m\"raw_input was called, but this frontend does not support input requests.\"\u001b[0m\u001b[0;34m\u001b[0m\u001b[0;34m\u001b[0m\u001b[0m\n\u001b[1;32m    850\u001b[0m             )\n\u001b[0;32m--> 851\u001b[0;31m         return self._input_request(str(prompt),\n\u001b[0m\u001b[1;32m    852\u001b[0m             \u001b[0mself\u001b[0m\u001b[0;34m.\u001b[0m\u001b[0m_parent_ident\u001b[0m\u001b[0;34m,\u001b[0m\u001b[0;34m\u001b[0m\u001b[0;34m\u001b[0m\u001b[0m\n\u001b[1;32m    853\u001b[0m             \u001b[0mself\u001b[0m\u001b[0;34m.\u001b[0m\u001b[0m_parent_header\u001b[0m\u001b[0;34m,\u001b[0m\u001b[0;34m\u001b[0m\u001b[0;34m\u001b[0m\u001b[0m\n",
            "\u001b[0;32m/usr/local/lib/python3.10/dist-packages/ipykernel/kernelbase.py\u001b[0m in \u001b[0;36m_input_request\u001b[0;34m(self, prompt, ident, parent, password)\u001b[0m\n\u001b[1;32m    893\u001b[0m             \u001b[0;32mexcept\u001b[0m \u001b[0mKeyboardInterrupt\u001b[0m\u001b[0;34m:\u001b[0m\u001b[0;34m\u001b[0m\u001b[0;34m\u001b[0m\u001b[0m\n\u001b[1;32m    894\u001b[0m                 \u001b[0;31m# re-raise KeyboardInterrupt, to truncate traceback\u001b[0m\u001b[0;34m\u001b[0m\u001b[0;34m\u001b[0m\u001b[0m\n\u001b[0;32m--> 895\u001b[0;31m                 \u001b[0;32mraise\u001b[0m \u001b[0mKeyboardInterrupt\u001b[0m\u001b[0;34m(\u001b[0m\u001b[0;34m\"Interrupted by user\"\u001b[0m\u001b[0;34m)\u001b[0m \u001b[0;32mfrom\u001b[0m \u001b[0;32mNone\u001b[0m\u001b[0;34m\u001b[0m\u001b[0;34m\u001b[0m\u001b[0m\n\u001b[0m\u001b[1;32m    896\u001b[0m             \u001b[0;32mexcept\u001b[0m \u001b[0mException\u001b[0m \u001b[0;32mas\u001b[0m \u001b[0me\u001b[0m\u001b[0;34m:\u001b[0m\u001b[0;34m\u001b[0m\u001b[0;34m\u001b[0m\u001b[0m\n\u001b[1;32m    897\u001b[0m                 \u001b[0mself\u001b[0m\u001b[0;34m.\u001b[0m\u001b[0mlog\u001b[0m\u001b[0;34m.\u001b[0m\u001b[0mwarning\u001b[0m\u001b[0;34m(\u001b[0m\u001b[0;34m\"Invalid Message:\"\u001b[0m\u001b[0;34m,\u001b[0m \u001b[0mexc_info\u001b[0m\u001b[0;34m=\u001b[0m\u001b[0;32mTrue\u001b[0m\u001b[0;34m)\u001b[0m\u001b[0;34m\u001b[0m\u001b[0;34m\u001b[0m\u001b[0m\n",
            "\u001b[0;31mKeyboardInterrupt\u001b[0m: Interrupted by user"
          ]
        }
      ]
    },
    {
      "cell_type": "markdown",
      "source": [
        "Latex Math\n",
        "\n",
        "$ a = \\sum_{i=0}^{n}  \\frac{1}{n+1} $\n"
      ],
      "metadata": {
        "id": "oy2Gyh5viZDb"
      }
    }
  ]
}