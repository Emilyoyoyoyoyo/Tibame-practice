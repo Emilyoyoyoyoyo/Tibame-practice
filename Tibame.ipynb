{
  "nbformat": 4,
  "nbformat_minor": 0,
  "metadata": {
    "colab": {
      "provenance": [],
      "authorship_tag": "ABX9TyNi5HPLiQzN4vXjy99DRopE",
      "include_colab_link": true
    },
    "kernelspec": {
      "name": "python3",
      "display_name": "Python 3"
    },
    "language_info": {
      "name": "python"
    }
  },
  "cells": [
    {
      "cell_type": "markdown",
      "metadata": {
        "id": "view-in-github",
        "colab_type": "text"
      },
      "source": [
        "<a href=\"https://colab.research.google.com/github/Emilyoyoyoyoyo/Tibame-practice/blob/main/Tibame.ipynb\" target=\"_parent\"><img src=\"https://colab.research.google.com/assets/colab-badge.svg\" alt=\"Open In Colab\"/></a>"
      ]
    },
    {
      "cell_type": "code",
      "execution_count": 5,
      "metadata": {
        "colab": {
          "base_uri": "https://localhost:8080/"
        },
        "id": "eTNXr7HPa04l",
        "outputId": "68a3cbb9-678d-4193-deef-c7c6e8d24747"
      },
      "outputs": [
        {
          "output_type": "stream",
          "name": "stdout",
          "text": [
            "請輸入體重：60\n",
            "請輸入身高：163\n",
            "你的體重是60.0\n",
            "你的身高是：163.0\n",
            "bmi是：22.582709172343712\n",
            "正常\n"
          ]
        }
      ],
      "source": [
        "# bmi = weight(kg) / height(m)^2\n",
        "weight = float(input(\"請輸入體重：\"))\n",
        "height = float(input(\"請輸入身高：\"))\n",
        "bmi = weight / (height/100)**2\n",
        "print('你的體重是'+str(weight))\n",
        "print('你的身高是：'+str(height))\n",
        "print('bmi是：'+str(bmi))\n",
        "\n",
        "if bmi > 25:\n",
        "    print('過重')\n",
        "    print('少吃多動')\n",
        "else:\n",
        "    print('正常')"
      ]
    },
    {
      "cell_type": "code",
      "source": [
        "import random\n",
        "\n",
        "my = int(input('0.剪刀 1.石頭 2.布：'))\n",
        "com = random.randint(0, 2)\n",
        "trans = ['剪刀', '石頭', '布']\n",
        "print('我出的：', trans[my])\n",
        "print('電腦出的：'+ trans[com])\n",
        "\n",
        "if my == (com+1) % 3:\n",
        "    print('win')\n",
        "elif com == (my+1) % 3:\n",
        "    print('lose')\n",
        "else:\n",
        "    print('even')\n",
        "print(\"!!!\")"
      ],
      "metadata": {
        "colab": {
          "base_uri": "https://localhost:8080/"
        },
        "id": "UdEnOoagfSRx",
        "outputId": "22fff2e4-043d-4308-dad1-7d884d2309c1"
      },
      "execution_count": 15,
      "outputs": [
        {
          "output_type": "stream",
          "name": "stdout",
          "text": [
            "0.剪刀 1.石頭 2.布：1\n",
            "我出的： 石頭\n",
            "電腦出的：剪刀\n",
            "win\n",
            "!!!\n"
          ]
        }
      ]
    },
    {
      "cell_type": "markdown",
      "source": [
        "Latex Math\n",
        "\n",
        "$ a = \\sum_{i=0}^{n}  \\frac{1}{n+1} $\n"
      ],
      "metadata": {
        "id": "oy2Gyh5viZDb"
      }
    }
  ]
}