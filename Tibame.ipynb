{
  "nbformat": 4,
  "nbformat_minor": 0,
  "metadata": {
    "colab": {
      "provenance": [],
      "authorship_tag": "ABX9TyPhOuy06uJw+3MNbfExNDK0",
      "include_colab_link": true
    },
    "kernelspec": {
      "name": "python3",
      "display_name": "Python 3"
    },
    "language_info": {
      "name": "python"
    }
  },
  "cells": [
    {
      "cell_type": "markdown",
      "metadata": {
        "id": "view-in-github",
        "colab_type": "text"
      },
      "source": [
        "<a href=\"https://colab.research.google.com/github/Emilyoyoyoyoyo/Tibame-practice/blob/main/Tibame.ipynb\" target=\"_parent\"><img src=\"https://colab.research.google.com/assets/colab-badge.svg\" alt=\"Open In Colab\"/></a>"
      ]
    },
    {
      "cell_type": "code",
      "execution_count": null,
      "metadata": {
        "id": "eTNXr7HPa04l"
      },
      "outputs": [],
      "source": [
        "print(3)\n"
      ]
    },
    {
      "cell_type": "markdown",
      "source": [
        "Latex Math\n",
        "\n",
        "$ a = \\sum_{i=0}^{n}  \\frac{1}{n+1} $\n"
      ],
      "metadata": {
        "id": "oy2Gyh5viZDb"
      }
    }
  ]
}