{
  "nbformat": 4,
  "nbformat_minor": 0,
  "metadata": {
    "colab": {
      "provenance": [],
      "authorship_tag": "ABX9TyNRnj8GxwjpyRGMZD1UvBwi",
      "include_colab_link": true
    },
    "kernelspec": {
      "name": "python3",
      "display_name": "Python 3"
    },
    "language_info": {
      "name": "python"
    }
  },
  "cells": [
    {
      "cell_type": "markdown",
      "metadata": {
        "id": "view-in-github",
        "colab_type": "text"
      },
      "source": [
        "<a href=\"https://colab.research.google.com/github/Emilyoyoyoyoyo/Tibame-practice/blob/main/Tibame.ipynb\" target=\"_parent\"><img src=\"https://colab.research.google.com/assets/colab-badge.svg\" alt=\"Open In Colab\"/></a>"
      ]
    },
    {
      "cell_type": "code",
      "execution_count": null,
      "metadata": {
        "colab": {
          "base_uri": "https://localhost:8080/"
        },
        "id": "eTNXr7HPa04l",
        "outputId": "68a3cbb9-678d-4193-deef-c7c6e8d24747"
      },
      "outputs": [
        {
          "output_type": "stream",
          "name": "stdout",
          "text": [
            "請輸入體重：60\n",
            "請輸入身高：163\n",
            "你的體重是60.0\n",
            "你的身高是：163.0\n",
            "bmi是：22.582709172343712\n",
            "正常\n"
          ]
        }
      ],
      "source": [
        "# bmi = weight(kg) / height(m)^2\n",
        "weight = float(input(\"請輸入體重：\"))\n",
        "height = float(input(\"請輸入身高：\"))\n",
        "bmi = weight / (height/100)**2\n",
        "print('你的體重是'+str(weight))\n",
        "print('你的身高是：'+str(height))\n",
        "print('bmi是：'+str(bmi))\n",
        "\n",
        "if bmi > 25:\n",
        "    print('過重')\n",
        "    print('少吃多動')\n",
        "else:\n",
        "    print('正常')"
      ]
    },
    {
      "cell_type": "code",
      "source": [
        "import random\n",
        "\n",
        "my = int(input('0.剪刀 1.石頭 2.布：'))\n",
        "com = random.randint(0, 2)\n",
        "trans = ['剪刀', '石頭', '布']\n",
        "print('我出的：', trans[my])\n",
        "print('電腦出的：'+ trans[com])\n",
        "\n",
        "#輪迴＝取餘數\n",
        "if my == (com+1) % 3:\n",
        "    print('win')\n",
        "elif com == (my+1) % 3:\n",
        "    print('lose')\n",
        "else:\n",
        "    print('even')\n",
        "print(\"!!!\")"
      ],
      "metadata": {
        "colab": {
          "base_uri": "https://localhost:8080/"
        },
        "id": "UdEnOoagfSRx",
        "outputId": "22fff2e4-043d-4308-dad1-7d884d2309c1"
      },
      "execution_count": null,
      "outputs": [
        {
          "output_type": "stream",
          "name": "stdout",
          "text": [
            "0.剪刀 1.石頭 2.布：1\n",
            "我出的： 石頭\n",
            "電腦出的：剪刀\n",
            "win\n",
            "!!!\n"
          ]
        }
      ]
    },
    {
      "cell_type": "code",
      "source": [
        " # 0~2為一組，3~5為一組，組內可比較（0>2, 1>0, 2>1, 4>3, 5>4, 3>5)，不同組就平手（作業）\n",
        "import random\n",
        "\n",
        "my = int(input('0~5：'))\n",
        "com = random.randint(0, 5)\n",
        "trans = ['0', '1', '2', '3', '4', '5']\n",
        "print('我出的：', trans[my])\n",
        "print('電腦出的：'+ trans[com])\n",
        "\n",
        "# 分組＝取商數，先分組，將3~5回到0~2（的位置）\n",
        "# 第一步：先確定兩個數字是否同組\n",
        "# 0 // 3 : 0\n",
        "# 1 // 3 : 0\n",
        "# 2 // 3 : 0\n",
        "# 3 // 3 : 1\n",
        "# 4 // 3 : 1\n",
        "# 5 // 3 : 1\n",
        "# 6 // 3 : 2\n",
        "mygroup = my // 3\n",
        "comgroup = com // 3\n",
        "\n",
        "# if 同一組:在0~2組\n",
        "if mygroup == comgroup:\n",
        "    if my == (com+1) % 3:\n",
        "        print('win')\n",
        "    elif com == (my+1) % 3:\n",
        "        print('lose')\n",
        "    else:\n",
        "        print('even')\n",
        "\n",
        "# elif 同一組:在3~5組，兩邊取餘數才可以比較（回到0~2)\n",
        "elif mygroup == comgroup:\n",
        "    if my % 3 == (com+1) % 3:\n",
        "        print('win')\n",
        "    elif com % 3 == (my+1) % 3:\n",
        "        print('lose')\n",
        "    else:\n",
        "        print('even')\n",
        "\n",
        "# else不同組\n",
        "else:\n",
        "    print('even')"
      ],
      "metadata": {
        "colab": {
          "base_uri": "https://localhost:8080/"
        },
        "id": "faQL4EouxoHJ",
        "outputId": "04c26372-ccc3-4444-9f3b-3778baa6fe92"
      },
      "execution_count": null,
      "outputs": [
        {
          "output_type": "stream",
          "name": "stdout",
          "text": [
            "0~5：0\n",
            "我出的： 0\n",
            "電腦出的：4\n",
            "even\n"
          ]
        }
      ]
    },
    {
      "cell_type": "code",
      "source": [
        "#先超過數量（商數），才有$還給對方（餘數）\n",
        "-1 % 3 = -1...2 #拿了$3還給對方$2\n",
        "-7 % 3 = -3...2 #拿了$9還給對方$2"
      ],
      "metadata": {
        "id": "M2gRol7TH02q"
      },
      "execution_count": null,
      "outputs": []
    },
    {
      "cell_type": "markdown",
      "source": [
        "Latex Math\n",
        "\n",
        "$ a = \\sum_{i=0}^{n}  \\frac{1}{n+1} $\n"
      ],
      "metadata": {
        "id": "oy2Gyh5viZDb"
      }
    },
    {
      "cell_type": "code",
      "source": [
        "#這三行永遠不變（更改print，次數不變）\n",
        "i = 0\n",
        "while i < 10:\n",
        "    print(i)\n",
        "    i = i + 1 #只有i的定義會改變\n",
        "\n",
        "#例題 1,3,5,7,9\n",
        "i = 0\n",
        "while i < 10:\n",
        "    print(2 * i + 1)\n",
        "    i = i + 1\n",
        "\n",
        "#例題 50, 47, 44...\n",
        "i = 0\n",
        "while i < 10:\n",
        "    print(50 - 3 * i)\n",
        "    i = i + 1\n",
        "\n",
        "#例題 10~0\n",
        "i = 0\n",
        "while i < 10:\n",
        "    print(10 - i)\n",
        "    i = i + 1"
      ],
      "metadata": {
        "id": "TiOLRub6QZWO"
      },
      "execution_count": null,
      "outputs": []
    },
    {
      "cell_type": "code",
      "source": [
        "i = 0\n",
        "while i < 10:\n",
        "    print('x' * (i + 1) + ' ' * (10-1-i))\n",
        "    i = i + 1"
      ],
      "metadata": {
        "colab": {
          "base_uri": "https://localhost:8080/"
        },
        "id": "OLlfNLTccX3Z",
        "outputId": "e69dbbbb-650e-41d7-de17-6e53d2afbba0"
      },
      "execution_count": null,
      "outputs": [
        {
          "output_type": "stream",
          "name": "stdout",
          "text": [
            "x         \n",
            "xx        \n",
            "xxx       \n",
            "xxxx      \n",
            "xxxxx     \n",
            "xxxxxx    \n",
            "xxxxxxx   \n",
            "xxxxxxxx  \n",
            "xxxxxxxxx \n",
            "xxxxxxxxxx\n"
          ]
        }
      ]
    },
    {
      "cell_type": "code",
      "source": [
        "i = 0\n",
        "while i < 10:\n",
        "    print(' ' * (10 - 1 - i) + 'o' * (i + 1) )\n",
        "    i = i + 1"
      ],
      "metadata": {
        "colab": {
          "base_uri": "https://localhost:8080/"
        },
        "id": "q9fKjV8Ecucv",
        "outputId": "4a48973f-050c-4f67-e85d-118dd0a8c6c6"
      },
      "execution_count": null,
      "outputs": [
        {
          "output_type": "stream",
          "name": "stdout",
          "text": [
            "         o\n",
            "        oo\n",
            "       ooo\n",
            "      oooo\n",
            "     ooooo\n",
            "    oooooo\n",
            "   ooooooo\n",
            "  oooooooo\n",
            " ooooooooo\n",
            "oooooooooo\n"
          ]
        }
      ]
    },
    {
      "cell_type": "code",
      "source": [
        "height = 10\n",
        "lsymbol, rsymbol = \" \", \"o\"\n",
        "i = 0\n",
        "while i < height:\n",
        "    lcount = height -i -1\n",
        "    rcount = i + 1\n",
        "    print(lsymbol * lcount + rsymbol * rcount )\n",
        "    i = i + 1"
      ],
      "metadata": {
        "colab": {
          "base_uri": "https://localhost:8080/"
        },
        "id": "3uYUFtL3emoG",
        "outputId": "e2249978-a9ac-4677-968a-5107a84cb092"
      },
      "execution_count": null,
      "outputs": [
        {
          "output_type": "stream",
          "name": "stdout",
          "text": [
            "         o\n",
            "        oo\n",
            "       ooo\n",
            "      oooo\n",
            "     ooooo\n",
            "    oooooo\n",
            "   ooooooo\n",
            "  oooooooo\n",
            " ooooooooo\n",
            "oooooooooo\n"
          ]
        }
      ]
    },
    {
      "cell_type": "code",
      "source": [
        "height = 10\n",
        "lsymbol, rsymbol = \" \", \"o\"\n",
        "i = 0\n",
        "while i < height:\n",
        "    lcount = i\n",
        "    rcount = height - i\n",
        "    print(lsymbol * lcount + rsymbol * rcount )\n",
        "    i = i + 1"
      ],
      "metadata": {
        "colab": {
          "base_uri": "https://localhost:8080/"
        },
        "id": "IDpu3p02gZaU",
        "outputId": "c6662702-39ba-45cd-c1f0-a4ca4afec320"
      },
      "execution_count": null,
      "outputs": [
        {
          "output_type": "stream",
          "name": "stdout",
          "text": [
            "oooooooooo\n",
            " ooooooooo\n",
            "  oooooooo\n",
            "   ooooooo\n",
            "    oooooo\n",
            "     ooooo\n",
            "      oooo\n",
            "       ooo\n",
            "        oo\n",
            "         o\n"
          ]
        }
      ]
    },
    {
      "cell_type": "code",
      "source": [
        "height = 4\n",
        "lsymbol, rsymbol = \" \", \"o\"\n",
        "i = 0\n",
        "while i < height:\n",
        "    lcount = i\n",
        "    rcount = (height * 2 - 1) - i * 2\n",
        "    print(lsymbol * lcount + rsymbol * rcount + lsymbol * lcount)\n",
        "    i = i + 1"
      ],
      "metadata": {
        "colab": {
          "base_uri": "https://localhost:8080/"
        },
        "id": "5iXUKBUXhud7",
        "outputId": "029c7da5-5a6f-4e37-d113-4a4c28dd3fdb"
      },
      "execution_count": null,
      "outputs": [
        {
          "output_type": "stream",
          "name": "stdout",
          "text": [
            "ooooooo\n",
            " ooooo \n",
            "  ooo  \n",
            "   o   \n"
          ]
        }
      ]
    },
    {
      "cell_type": "code",
      "source": [
        "height = 5\n",
        "i = 0\n",
        "while i < height:\n",
        "    #奇數層：i = 0, 2, 4, 6, 8\n",
        "    if i % 2 == 0:\n",
        "        lsymbol, msymbol, rsymbol = \".\", \"o\", \".\"\n",
        "    #偶數層：i % 2 == 1\n",
        "    else:\n",
        "        lsymbol, msymbol, rsymbol = \".\", \"x\", \".\"\n",
        "    lcount = i\n",
        "    mcount = (height * 2 - 1) - i * 2\n",
        "    rcount = i\n",
        "    print(lsymbol * lcount + msymbol * mcount + rsymbol * rcount)\n",
        "    i = i + 1"
      ],
      "metadata": {
        "colab": {
          "base_uri": "https://localhost:8080/"
        },
        "id": "gKf5bXN-m9F1",
        "outputId": "56d652fc-89fc-4728-e91a-d4ef6db0400f"
      },
      "execution_count": null,
      "outputs": [
        {
          "output_type": "stream",
          "name": "stdout",
          "text": [
            "ooooooooo\n",
            ".xxxxxxx.\n",
            "..ooooo..\n",
            "...xxx...\n",
            "....o....\n"
          ]
        }
      ]
    },
    {
      "cell_type": "markdown",
      "source": [],
      "metadata": {
        "id": "V4Gosu4Eo4ok"
      }
    },
    {
      "cell_type": "code",
      "source": [
        "#使用萬國馬編碼utf-8, \\u\n",
        "symbols = ['\\u2660','\\u2661','\\u2662','\\u2663']\n",
        "height = 10\n",
        "i = 0\n",
        "while i < height:\n",
        "    #符號\n",
        "    lsymbol = \" \"\n",
        "    msymbol = symbols[i%len(symbols)] #除以長度，取餘數，回到位置（代表符號）高級寫法\n",
        "    rsymbol = \" \"\n",
        "    #數目\n",
        "    lcount = i\n",
        "    mcount = (height * 2 - 1) - i * 2\n",
        "    rcount = i\n",
        "    print(lsymbol * lcount + msymbol * mcount + rsymbol * rcount)\n",
        "    i = i + 1"
      ],
      "metadata": {
        "colab": {
          "base_uri": "https://localhost:8080/"
        },
        "id": "WzFl25MXr0Sf",
        "outputId": "476640c6-ce77-485f-a28f-1fe9e0ded1dd"
      },
      "execution_count": null,
      "outputs": [
        {
          "output_type": "stream",
          "name": "stdout",
          "text": [
            "♠♠♠♠♠♠♠♠♠♠♠♠♠♠♠♠♠♠♠\n",
            " ♡♡♡♡♡♡♡♡♡♡♡♡♡♡♡♡♡ \n",
            "  ♢♢♢♢♢♢♢♢♢♢♢♢♢♢♢  \n",
            "   ♣♣♣♣♣♣♣♣♣♣♣♣♣   \n",
            "    ♠♠♠♠♠♠♠♠♠♠♠    \n",
            "     ♡♡♡♡♡♡♡♡♡     \n",
            "      ♢♢♢♢♢♢♢      \n",
            "       ♣♣♣♣♣       \n",
            "        ♠♠♠        \n",
            "         ♡         \n"
          ]
        }
      ]
    },
    {
      "cell_type": "code",
      "source": [
        "symbols = ['\\u2660','\\u2661','\\u2662','\\u2663']\n",
        "print(len(symbols))"
      ],
      "metadata": {
        "colab": {
          "base_uri": "https://localhost:8080/"
        },
        "id": "gwnnIZe0u_4U",
        "outputId": "07b3285f-174f-45f8-c352-20ccf732c811"
      },
      "execution_count": null,
      "outputs": [
        {
          "output_type": "stream",
          "name": "stdout",
          "text": [
            "4\n"
          ]
        }
      ]
    },
    {
      "cell_type": "code",
      "source": [
        "total = 0\n",
        "i = 0\n",
        "while i < 10:\n",
        "    total = total + (i+1)\n",
        "    print(total)\n",
        "    i = i +1"
      ],
      "metadata": {
        "id": "SkU_WLCGHInv"
      },
      "execution_count": null,
      "outputs": []
    },
    {
      "cell_type": "code",
      "source": [
        "# a / b = 0.2\n",
        "a, b = 2, 7\n",
        "ans = \"0.\"\n",
        "i = 0\n",
        "while i < 10: #回圈10次，從0開始（10位數）\n",
        "    # 2 > 20\n",
        "    a10 = a * 10\n",
        "    # 20 // 7 > 0.2\n",
        "    ans = ans + str(a10 // b)\n",
        "    # 20 % 7\n",
        "    a = a10 % 7\n",
        "    print(ans)\n",
        "    i = i + 1"
      ],
      "metadata": {
        "colab": {
          "base_uri": "https://localhost:8080/"
        },
        "id": "gO7ZBKZ1JVAw",
        "outputId": "2c0f9135-f934-4cff-c4c6-2ba2ab67609d"
      },
      "execution_count": null,
      "outputs": [
        {
          "output_type": "stream",
          "name": "stdout",
          "text": [
            "0.2\n",
            "0.28\n",
            "0.285\n",
            "0.2857\n",
            "0.28571\n",
            "0.285714\n",
            "0.2857142\n",
            "0.28571428\n",
            "0.285714285\n",
            "0.2857142857\n"
          ]
        }
      ]
    },
    {
      "cell_type": "code",
      "source": [
        "# a / b = 0.6\n",
        "a, b = 3, 5\n",
        "ans = \"0.\"\n",
        "i = 0\n",
        "while i < 10:\n",
        "    # 3 > 30\n",
        "    a10 = a * 10\n",
        "    # 30 // 5 > 0.6\n",
        "    ans = ans + str(a10 // b)\n",
        "    print(ans)\n",
        "     # 取餘數\n",
        "    a = a10 % 5\n",
        "    if a == 0: #餘數=0，在回圈10次內提前結束\n",
        "        break\n",
        "    i = i + 1"
      ],
      "metadata": {
        "colab": {
          "base_uri": "https://localhost:8080/"
        },
        "id": "vF5f8pWChYI7",
        "outputId": "34b82747-aa22-4009-a476-71716cd5ffe0"
      },
      "execution_count": 31,
      "outputs": [
        {
          "output_type": "stream",
          "name": "stdout",
          "text": [
            "0.6\n"
          ]
        }
      ]
    },
    {
      "cell_type": "code",
      "source": [
        "# a / b = 7.1428571428\n",
        "a, b = 50, 7\n",
        "ans = str(a//b) + \".\" #先取商數\n",
        "a = a % b #再變成餘數\n",
        "i = 0\n",
        "while i < 10: #取10位數\n",
        "    # 1 > 10 #補0\n",
        "    a10 = a * 10\n",
        "    # 10 // 7 > 1.4 #取商\n",
        "    ans = ans + str(a10 // b)\n",
        "    print(ans)\n",
        "    # 取餘數，餘數=0停止回圈\n",
        "    a = a10 % 7\n",
        "    if a == 0:\n",
        "        break\n",
        "    i = i + 1"
      ],
      "metadata": {
        "colab": {
          "base_uri": "https://localhost:8080/"
        },
        "id": "cv-5KruNi-OU",
        "outputId": "8ed5433f-0706-4d09-c889-1432b6139b9f"
      },
      "execution_count": 30,
      "outputs": [
        {
          "output_type": "stream",
          "name": "stdout",
          "text": [
            "7.1\n",
            "7.14\n",
            "7.142\n",
            "7.1428\n",
            "7.14285\n",
            "7.142857\n",
            "7.1428571\n",
            "7.14285714\n",
            "7.142857142\n",
            "7.1428571428\n"
          ]
        }
      ]
    },
    {
      "cell_type": "code",
      "source": [
        "n = 19800229 #取前四位、取後四位，用商數餘數取數字\n",
        "year = n // 10000\n",
        "last4 = n % 10000 #取餘數\n",
        "day = last4 % 100\n",
        "month = last4 // 100 #取商數\n",
        "print(year, month, day)\n",
        "\n",
        "month_days = [31,28,31,30,31,30,31,31,30,31,30,31] #有關數字與位置，可用清單呈現取代表＊＊\n",
        "if 1 <= month <= 12:\n",
        "    if 1 <= day <= month_days[month-1]: #month_days有0-11位，最多11位\n",
        "        print(\"合理\")\n",
        "    else:\n",
        "        print(\"不合理日期（天）\")\n",
        "else:\n",
        "    print(\"不合理日期（月）\")\n"
      ],
      "metadata": {
        "colab": {
          "base_uri": "https://localhost:8080/"
        },
        "id": "ctraqAZtnbQ_",
        "outputId": "8dcd3022-a264-4e40-d571-2786757af53a"
      },
      "execution_count": 43,
      "outputs": [
        {
          "output_type": "stream",
          "name": "stdout",
          "text": [
            "1980 2 29\n",
            "不合理日期（天）\n"
          ]
        }
      ]
    },
    {
      "cell_type": "code",
      "source": [
        "n = 19800229\n",
        "year = n // 10000\n",
        "last4 = n % 10000 #取餘數\n",
        "day = last4 % 100\n",
        "month = last4 // 100 #取商數\n",
        "print(year, month, day)\n",
        "\n",
        "month_days = [31,28,31,30,31,30,31,31,30,31,30,31] #有關數字與位置，可用清單呈現取代表＊＊\n",
        "\n",
        "#考慮閏年寫法\n",
        "if month == 2:\n",
        "    if year % 400 == 0: #每400閏年，嚴格的先寫，400是100 & 4的倍數＊＊\n",
        "        month_day = month_days[month-1]+1 #天數28+1\n",
        "    if year % 100 == 0: #每100不閏年\n",
        "        pass #不閏年\n",
        "    if year % 4 == 0: #每4閏年\n",
        "        month_day = month_days[month-1]+1\n",
        "    print(\"合理\")\n",
        "else:\n",
        "    print(\"不合理日期（天）\")\n"
      ],
      "metadata": {
        "colab": {
          "base_uri": "https://localhost:8080/"
        },
        "id": "H6Xx8bsi3UCA",
        "outputId": "efb0f85f-103a-491d-cc3f-bf6994cb4223"
      },
      "execution_count": 44,
      "outputs": [
        {
          "output_type": "stream",
          "name": "stdout",
          "text": [
            "1980 2 29\n",
            "合理\n"
          ]
        }
      ]
    },
    {
      "cell_type": "code",
      "source": [
        "s = \"asdfsARIYFEPjhudep\"\n",
        "# 英文大小寫，統計有多少大小寫\n",
        "lcase, ucase = 0, 0 #次數\n",
        "i = 0\n",
        "while i < len(s): # i 的值小於字串 s 的長度，迴圈就會繼續執行，遍歷值\n",
        "    n = ord(s[i]) #s[i]存取字串 s 中索引為 i 的字元，順序值\n",
        "    if ord(\"A\") <= n <= ord(\"Z\"):\n",
        "        ucase = ucase + 1\n",
        "    elif ord(\"a\") <= n <= ord(\"z\"):\n",
        "        lcase = lcase + 1\n",
        "    i = i + 1\n",
        "print(ucase , lcase )\n"
      ],
      "metadata": {
        "colab": {
          "base_uri": "https://localhost:8080/"
        },
        "id": "RmukPCa8MWHS",
        "outputId": "cc84abe1-62f4-4b64-b9a1-21353593648f"
      },
      "execution_count": null,
      "outputs": [
        {
          "output_type": "stream",
          "name": "stdout",
          "text": [
            "7 11\n"
          ]
        }
      ]
    },
    {
      "cell_type": "code",
      "source": [
        "#統計大小寫字母，每一個字母有幾個\n",
        "s = \"frwfoikljGEWWBYEjmDWjp..r3342\"\n",
        "ucases = [0] * 26 #26個0代表26個字母的次數\n",
        "lcases = [0] * 26\n",
        "i = 0\n",
        "while i < len(s):\n",
        "    n = ord(s[i])\n",
        "    if ord(\"A\") <= n <= ord(\"Z\"):\n",
        "        # 65-90 > 0-25 ＃ucases = [0] * 26 有26個位置（0~25）\n",
        "        n = n - ord(\"A\")\n",
        "        ucases[n] = ucases[n] + 1 #讀取當前ucases[n]後，更新ucases[n]，儲存新的出現次數＊＊＊＊\n",
        "    elif ord(\"a\") <= n <= ord(\"z\"):\n",
        "        # 97-122 > 0-25\n",
        "        n = n - ord(\"a\")\n",
        "        lcases[n] = lcases[n] + 1\n",
        "    i = i + 1\n",
        "print(ucases)\n",
        "print(lcases)\n",
        "\n",
        "#印出26行\n",
        "#A:5  a:3\n",
        "#char(97) > \"a\" , char(65) > \"A\"\n",
        "i = 0\n",
        "while i < len(ucases): #len(ucases)=26\n",
        "    c1, c2 = chr(i + ord(\"A\")), chr(i + ord(\"a\"))\n",
        "    n1, n2 = ucases[i], lcases[i] #ucases[i] 是大寫字母的出現次數（最終回圈完畢的數），因為第一輪回圈已經記錄\n",
        "    print(c1, n1, \"/\", c2, n2)\n",
        "    i = i + 1"
      ],
      "metadata": {
        "colab": {
          "base_uri": "https://localhost:8080/"
        },
        "id": "4O1y6B4URwL3",
        "outputId": "3596ba6b-0e0f-4b23-e472-b0202de9a33b"
      },
      "execution_count": null,
      "outputs": [
        {
          "output_type": "stream",
          "name": "stdout",
          "text": [
            "[0, 1, 0, 1, 2, 0, 1, 0, 0, 0, 0, 0, 0, 0, 0, 0, 0, 0, 0, 0, 0, 0, 3, 0, 1, 0]\n",
            "[0, 0, 0, 0, 0, 2, 0, 0, 1, 3, 1, 1, 1, 0, 1, 1, 0, 2, 0, 0, 0, 0, 1, 0, 0, 0]\n",
            "A 0 / a 0\n",
            "B 1 / b 0\n",
            "C 0 / c 0\n",
            "D 1 / d 0\n",
            "E 2 / e 0\n",
            "F 0 / f 2\n",
            "G 1 / g 0\n",
            "H 0 / h 0\n",
            "I 0 / i 1\n",
            "J 0 / j 3\n",
            "K 0 / k 1\n",
            "L 0 / l 1\n",
            "M 0 / m 1\n",
            "N 0 / n 0\n",
            "O 0 / o 1\n",
            "P 0 / p 1\n",
            "Q 0 / q 0\n",
            "R 0 / r 2\n",
            "S 0 / s 0\n",
            "T 0 / t 0\n",
            "U 0 / u 0\n",
            "V 0 / v 0\n",
            "W 3 / w 1\n",
            "X 0 / x 0\n",
            "Y 1 / y 0\n",
            "Z 0 / z 0\n"
          ]
        }
      ]
    },
    {
      "cell_type": "code",
      "source": [
        "import random\n",
        "\n",
        "#隨機一個整數：-1輸，0平手，1贏 （贏三把剪刀石頭布就贏了）\n",
        "trans=[\"lose\", \"even\", \"win\"]\n",
        "win, even, lose = 0, 0, 0\n",
        "\n",
        "#條件一： win<3\n",
        "#條件二：lose<3\n",
        "#當我還沒贏三次，而且對手還沒贏三次，就繼續玩\n",
        "while win < 3 and lose < 3: #輸贏條件\n",
        "    result = random.randint(-1, 1)\n",
        "    print(trans[result+1]) #在list：trans裡面呈現位置\n",
        "    if result == -1:\n",
        "        lose+= 1\n",
        "    elif result == 0:\n",
        "        even+=1\n",
        "    elif result == 1:\n",
        "        win+=1\n",
        "\n",
        "if win > lose:\n",
        "    print(\"final: win\")\n",
        "else:\n",
        "    print(\"final:lose\")"
      ],
      "metadata": {
        "id": "jyMQQemeUI_Y"
      },
      "execution_count": null,
      "outputs": []
    },
    {
      "cell_type": "code",
      "source": [
        "import random\n",
        "\n",
        "#隨機一個整數：-1輸，0平手，1贏 （贏三把剪刀石頭布就贏了）\n",
        "#while True & break一起使用，無限迴圈break\n",
        "trans=[\"lose\", \"even\", \"win\"]\n",
        "win, even, lose = 0, 0, 0\n",
        "\n",
        "while True: #輸贏條件\n",
        "    result = random.randint(-1, 1)\n",
        "    print(trans[result+1]) #在list：trans裡面呈現位置\n",
        "    if result == -1:\n",
        "        lose = lose + 1\n",
        "    elif result == 0:\n",
        "        even = even + 1\n",
        "    elif result == 1:\n",
        "        win = win + 1\n",
        "\n",
        "    if win >= 3:\n",
        "        print(\"final: win\")\n",
        "        break\n",
        "    elif lose >= 3:\n",
        "        print(\"final:lose\")\n",
        "        break"
      ],
      "metadata": {
        "colab": {
          "base_uri": "https://localhost:8080/"
        },
        "id": "8wP1_F-XfhvD",
        "outputId": "93a32a41-4fe8-45f8-d223-6552f3c453fc"
      },
      "execution_count": 22,
      "outputs": [
        {
          "output_type": "stream",
          "name": "stdout",
          "text": [
            "even\n",
            "win\n",
            "win\n",
            "win\n",
            "final: win\n"
          ]
        }
      ]
    },
    {
      "cell_type": "code",
      "source": [],
      "metadata": {
        "id": "9V1Ze26UhOx-"
      },
      "execution_count": null,
      "outputs": []
    }
  ]
}