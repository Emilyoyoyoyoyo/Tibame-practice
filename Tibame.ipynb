{
  "nbformat": 4,
  "nbformat_minor": 0,
  "metadata": {
    "colab": {
      "provenance": [],
      "authorship_tag": "ABX9TyOytKj08EekVrI5EfsIcfKV",
      "include_colab_link": true
    },
    "kernelspec": {
      "name": "python3",
      "display_name": "Python 3"
    },
    "language_info": {
      "name": "python"
    }
  },
  "cells": [
    {
      "cell_type": "markdown",
      "metadata": {
        "id": "view-in-github",
        "colab_type": "text"
      },
      "source": [
        "<a href=\"https://colab.research.google.com/github/Emilyoyoyoyoyo/Tibame-practice/blob/main/Tibame.ipynb\" target=\"_parent\"><img src=\"https://colab.research.google.com/assets/colab-badge.svg\" alt=\"Open In Colab\"/></a>"
      ]
    },
    {
      "cell_type": "code",
      "execution_count": 1,
      "metadata": {
        "colab": {
          "base_uri": "https://localhost:8080/"
        },
        "id": "eTNXr7HPa04l",
        "outputId": "287c9c19-aafa-4e9c-876b-0c2e7daf0cf9"
      },
      "outputs": [
        {
          "output_type": "stream",
          "name": "stdout",
          "text": [
            "你的體重是60\n",
            "你的身高是：163\n",
            "bmi是：22.582709172343712\n"
          ]
        }
      ],
      "source": [
        "# bmi = weight(kg) / height(m)^2\n",
        "weight = 60\n",
        "height = 163\n",
        "bmi = weight / (height/100)**2\n",
        "print('你的體重是'+str(weight))\n",
        "print('你的身高是：'+str(height))\n",
        "print('bmi是：'+str(bmi))\n",
        "\n",
        "if"
      ]
    },
    {
      "cell_type": "markdown",
      "source": [
        "Latex Math\n",
        "\n",
        "$ a = \\sum_{i=0}^{n}  \\frac{1}{n+1} $\n"
      ],
      "metadata": {
        "id": "oy2Gyh5viZDb"
      }
    }
  ]
}