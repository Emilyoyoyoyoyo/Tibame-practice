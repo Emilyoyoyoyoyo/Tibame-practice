{
  "nbformat": 4,
  "nbformat_minor": 0,
  "metadata": {
    "colab": {
      "provenance": [],
      "authorship_tag": "ABX9TyNOXsxbravkMC3cUgrR9po1",
      "include_colab_link": true
    },
    "kernelspec": {
      "name": "python3",
      "display_name": "Python 3"
    },
    "language_info": {
      "name": "python"
    }
  },
  "cells": [
    {
      "cell_type": "markdown",
      "metadata": {
        "id": "view-in-github",
        "colab_type": "text"
      },
      "source": [
        "<a href=\"https://colab.research.google.com/github/Emilyoyoyoyoyo/Tibame-practice/blob/main/Tibame.ipynb\" target=\"_parent\"><img src=\"https://colab.research.google.com/assets/colab-badge.svg\" alt=\"Open In Colab\"/></a>"
      ]
    },
    {
      "cell_type": "code",
      "execution_count": null,
      "metadata": {
        "colab": {
          "base_uri": "https://localhost:8080/"
        },
        "id": "eTNXr7HPa04l",
        "outputId": "68a3cbb9-678d-4193-deef-c7c6e8d24747"
      },
      "outputs": [
        {
          "output_type": "stream",
          "name": "stdout",
          "text": [
            "請輸入體重：60\n",
            "請輸入身高：163\n",
            "你的體重是60.0\n",
            "你的身高是：163.0\n",
            "bmi是：22.582709172343712\n",
            "正常\n"
          ]
        }
      ],
      "source": [
        "# bmi = weight(kg) / height(m)^2\n",
        "weight = float(input(\"請輸入體重：\"))\n",
        "height = float(input(\"請輸入身高：\"))\n",
        "bmi = weight / (height/100)**2\n",
        "print('你的體重是'+str(weight))\n",
        "print('你的身高是：'+str(height))\n",
        "print('bmi是：'+str(bmi))\n",
        "\n",
        "if bmi > 25:\n",
        "    print('過重')\n",
        "    print('少吃多動')\n",
        "else:\n",
        "    print('正常')"
      ]
    },
    {
      "cell_type": "code",
      "source": [
        "import random\n",
        "\n",
        "my = int(input('0.剪刀 1.石頭 2.布：'))\n",
        "com = random.randint(0, 2)\n",
        "trans = ['剪刀', '石頭', '布']\n",
        "print('我出的：', trans[my])\n",
        "print('電腦出的：'+ trans[com])\n",
        "\n",
        "#輪迴＝取餘數\n",
        "if my == (com+1) % 3:\n",
        "    print('win')\n",
        "elif com == (my+1) % 3:\n",
        "    print('lose')\n",
        "else:\n",
        "    print('even')\n",
        "print(\"!!!\")"
      ],
      "metadata": {
        "colab": {
          "base_uri": "https://localhost:8080/"
        },
        "id": "UdEnOoagfSRx",
        "outputId": "22fff2e4-043d-4308-dad1-7d884d2309c1"
      },
      "execution_count": null,
      "outputs": [
        {
          "output_type": "stream",
          "name": "stdout",
          "text": [
            "0.剪刀 1.石頭 2.布：1\n",
            "我出的： 石頭\n",
            "電腦出的：剪刀\n",
            "win\n",
            "!!!\n"
          ]
        }
      ]
    },
    {
      "cell_type": "code",
      "source": [
        " # 0~2為一組，3~5為一組，組內可比較（0>2, 1>0, 2>1, 4>3, 5>4, 3>5)，不同組就平手（作業）\n",
        "import random\n",
        "\n",
        "my = int(input('0~5：'))\n",
        "com = random.randint(0, 5)\n",
        "trans = ['0', '1', '2', '3', '4', '5']\n",
        "print('我出的：', trans[my])\n",
        "print('電腦出的：'+ trans[com])\n",
        "\n",
        "# 分組＝取商數，先分組，將3~5回到0~2（的位置）\n",
        "# 第一步：先確定兩個數字是否同組\n",
        "# 0 // 3 : 0\n",
        "# 1 // 3 : 0\n",
        "# 2 // 3 : 0\n",
        "# 3 // 3 : 1\n",
        "# 4 // 3 : 1\n",
        "# 5 // 3 : 1\n",
        "# 6 // 3 : 2\n",
        "mygroup = my // 3\n",
        "comgroup = com // 3\n",
        "\n",
        "# if 同一組:在0~2組\n",
        "if mygroup == comgroup:\n",
        "    if my == (com+1) % 3:\n",
        "        print('win')\n",
        "    elif com == (my+1) % 3:\n",
        "        print('lose')\n",
        "    else:\n",
        "        print('even')\n",
        "\n",
        "# elif 同一組:在3~5組，兩邊取餘數才可以比較（回到0~2)\n",
        "elif mygroup == comgroup:\n",
        "    if my % 3 == (com+1) % 3:\n",
        "        print('win')\n",
        "    elif com % 3 == (my+1) % 3:\n",
        "        print('lose')\n",
        "    else:\n",
        "        print('even')\n",
        "\n",
        "# else不同組\n",
        "else:\n",
        "    print('even')"
      ],
      "metadata": {
        "colab": {
          "base_uri": "https://localhost:8080/"
        },
        "id": "faQL4EouxoHJ",
        "outputId": "04c26372-ccc3-4444-9f3b-3778baa6fe92"
      },
      "execution_count": null,
      "outputs": [
        {
          "output_type": "stream",
          "name": "stdout",
          "text": [
            "0~5：0\n",
            "我出的： 0\n",
            "電腦出的：4\n",
            "even\n"
          ]
        }
      ]
    },
    {
      "cell_type": "code",
      "source": [
        "#先超過數量（商數），才有$還給對方（餘數）\n",
        "-1 % 3 = -1...2 #拿了$3還給對方$2\n",
        "-7 % 3 = -3...2 #拿了$9還給對方$2"
      ],
      "metadata": {
        "id": "M2gRol7TH02q"
      },
      "execution_count": null,
      "outputs": []
    },
    {
      "cell_type": "markdown",
      "source": [
        "Latex Math\n",
        "\n",
        "$ a = \\sum_{i=0}^{n}  \\frac{1}{n+1} $\n"
      ],
      "metadata": {
        "id": "oy2Gyh5viZDb"
      }
    },
    {
      "cell_type": "code",
      "source": [
        "#這三行永遠不變（更改print，次數不變）\n",
        "i = 0\n",
        "while i < 10:\n",
        "    print(i)\n",
        "    i = i + 1 #只有i的定義會改變\n",
        "\n",
        "#例題 1,3,5,7,9\n",
        "i = 0\n",
        "while i < 10:\n",
        "    print(2 * i + 1)\n",
        "    i = i + 1\n",
        "\n",
        "#例題 50, 47, 44...\n",
        "i = 0\n",
        "while i < 10:\n",
        "    print(50 - 3 * i)\n",
        "    i = i + 1\n",
        "\n",
        "#例題 10~0\n",
        "i = 0\n",
        "while i < 10:\n",
        "    print(10 - i)\n",
        "    i = i + 1"
      ],
      "metadata": {
        "id": "TiOLRub6QZWO"
      },
      "execution_count": null,
      "outputs": []
    },
    {
      "cell_type": "code",
      "source": [
        "i = 0\n",
        "while i < 10:\n",
        "    print('x' * (i + 1) + ' ' * (10-1-i))\n",
        "    i = i + 1"
      ],
      "metadata": {
        "colab": {
          "base_uri": "https://localhost:8080/"
        },
        "id": "OLlfNLTccX3Z",
        "outputId": "e69dbbbb-650e-41d7-de17-6e53d2afbba0"
      },
      "execution_count": null,
      "outputs": [
        {
          "output_type": "stream",
          "name": "stdout",
          "text": [
            "x         \n",
            "xx        \n",
            "xxx       \n",
            "xxxx      \n",
            "xxxxx     \n",
            "xxxxxx    \n",
            "xxxxxxx   \n",
            "xxxxxxxx  \n",
            "xxxxxxxxx \n",
            "xxxxxxxxxx\n"
          ]
        }
      ]
    },
    {
      "cell_type": "code",
      "source": [
        "i = 0\n",
        "while i < 10:\n",
        "    print(' ' * (10 - 1 - i) + 'o' * (i + 1) )\n",
        "    i = i + 1"
      ],
      "metadata": {
        "colab": {
          "base_uri": "https://localhost:8080/"
        },
        "id": "q9fKjV8Ecucv",
        "outputId": "4a48973f-050c-4f67-e85d-118dd0a8c6c6"
      },
      "execution_count": null,
      "outputs": [
        {
          "output_type": "stream",
          "name": "stdout",
          "text": [
            "         o\n",
            "        oo\n",
            "       ooo\n",
            "      oooo\n",
            "     ooooo\n",
            "    oooooo\n",
            "   ooooooo\n",
            "  oooooooo\n",
            " ooooooooo\n",
            "oooooooooo\n"
          ]
        }
      ]
    },
    {
      "cell_type": "code",
      "source": [
        "height = 10\n",
        "lsymbol, rsymbol = \" \", \"o\"\n",
        "i = 0\n",
        "while i < height:\n",
        "    lcount = height -i -1\n",
        "    rcount = i + 1\n",
        "    print(lsymbol * lcount + rsymbol * rcount )\n",
        "    i = i + 1"
      ],
      "metadata": {
        "colab": {
          "base_uri": "https://localhost:8080/"
        },
        "id": "3uYUFtL3emoG",
        "outputId": "e2249978-a9ac-4677-968a-5107a84cb092"
      },
      "execution_count": null,
      "outputs": [
        {
          "output_type": "stream",
          "name": "stdout",
          "text": [
            "         o\n",
            "        oo\n",
            "       ooo\n",
            "      oooo\n",
            "     ooooo\n",
            "    oooooo\n",
            "   ooooooo\n",
            "  oooooooo\n",
            " ooooooooo\n",
            "oooooooooo\n"
          ]
        }
      ]
    },
    {
      "cell_type": "code",
      "source": [
        "height = 10\n",
        "lsymbol, rsymbol = \" \", \"o\"\n",
        "i = 0\n",
        "while i < height:\n",
        "    lcount = i\n",
        "    rcount = height - i\n",
        "    print(lsymbol * lcount + rsymbol * rcount )\n",
        "    i = i + 1"
      ],
      "metadata": {
        "colab": {
          "base_uri": "https://localhost:8080/"
        },
        "id": "IDpu3p02gZaU",
        "outputId": "c6662702-39ba-45cd-c1f0-a4ca4afec320"
      },
      "execution_count": null,
      "outputs": [
        {
          "output_type": "stream",
          "name": "stdout",
          "text": [
            "oooooooooo\n",
            " ooooooooo\n",
            "  oooooooo\n",
            "   ooooooo\n",
            "    oooooo\n",
            "     ooooo\n",
            "      oooo\n",
            "       ooo\n",
            "        oo\n",
            "         o\n"
          ]
        }
      ]
    },
    {
      "cell_type": "code",
      "source": [
        "height = 4\n",
        "lsymbol, rsymbol = \" \", \"o\"\n",
        "i = 0\n",
        "while i < height:\n",
        "    lcount = i\n",
        "    rcount = (height * 2 - 1) - i * 2\n",
        "    print(lsymbol * lcount + rsymbol * rcount + lsymbol * lcount)\n",
        "    i = i + 1"
      ],
      "metadata": {
        "colab": {
          "base_uri": "https://localhost:8080/"
        },
        "id": "5iXUKBUXhud7",
        "outputId": "029c7da5-5a6f-4e37-d113-4a4c28dd3fdb"
      },
      "execution_count": null,
      "outputs": [
        {
          "output_type": "stream",
          "name": "stdout",
          "text": [
            "ooooooo\n",
            " ooooo \n",
            "  ooo  \n",
            "   o   \n"
          ]
        }
      ]
    },
    {
      "cell_type": "code",
      "source": [
        "height = 5\n",
        "i = 0\n",
        "while i < height:\n",
        "    #奇數層：i = 0, 2, 4, 6, 8\n",
        "    if i % 2 == 0:\n",
        "        lsymbol, msymbol, rsymbol = \".\", \"o\", \".\"\n",
        "    #偶數層：i % 2 == 1\n",
        "    else:\n",
        "        lsymbol, msymbol, rsymbol = \".\", \"x\", \".\"\n",
        "    lcount = i\n",
        "    mcount = (height * 2 - 1) - i * 2\n",
        "    rcount = i\n",
        "    print(lsymbol * lcount + msymbol * mcount + rsymbol * rcount)\n",
        "    i = i + 1"
      ],
      "metadata": {
        "colab": {
          "base_uri": "https://localhost:8080/"
        },
        "id": "gKf5bXN-m9F1",
        "outputId": "56d652fc-89fc-4728-e91a-d4ef6db0400f"
      },
      "execution_count": null,
      "outputs": [
        {
          "output_type": "stream",
          "name": "stdout",
          "text": [
            "ooooooooo\n",
            ".xxxxxxx.\n",
            "..ooooo..\n",
            "...xxx...\n",
            "....o....\n"
          ]
        }
      ]
    },
    {
      "cell_type": "markdown",
      "source": [],
      "metadata": {
        "id": "V4Gosu4Eo4ok"
      }
    },
    {
      "cell_type": "code",
      "source": [
        "#使用萬國馬編碼utf-8, \\u\n",
        "symbols = ['\\u2660','\\u2661','\\u2662','\\u2663']\n",
        "height = 10\n",
        "i = 0\n",
        "while i < height:\n",
        "    #符號\n",
        "    lsymbol = \" \"\n",
        "    msymbol = symbols[i%len(symbols)] #除以長度，取餘數，回到位置（代表符號）高級寫法\n",
        "    rsymbol = \" \"\n",
        "    #數目\n",
        "    lcount = i\n",
        "    mcount = (height * 2 - 1) - i * 2\n",
        "    rcount = i\n",
        "    print(lsymbol * lcount + msymbol * mcount + rsymbol * rcount)\n",
        "    i = i + 1"
      ],
      "metadata": {
        "colab": {
          "base_uri": "https://localhost:8080/"
        },
        "id": "WzFl25MXr0Sf",
        "outputId": "476640c6-ce77-485f-a28f-1fe9e0ded1dd"
      },
      "execution_count": null,
      "outputs": [
        {
          "output_type": "stream",
          "name": "stdout",
          "text": [
            "♠♠♠♠♠♠♠♠♠♠♠♠♠♠♠♠♠♠♠\n",
            " ♡♡♡♡♡♡♡♡♡♡♡♡♡♡♡♡♡ \n",
            "  ♢♢♢♢♢♢♢♢♢♢♢♢♢♢♢  \n",
            "   ♣♣♣♣♣♣♣♣♣♣♣♣♣   \n",
            "    ♠♠♠♠♠♠♠♠♠♠♠    \n",
            "     ♡♡♡♡♡♡♡♡♡     \n",
            "      ♢♢♢♢♢♢♢      \n",
            "       ♣♣♣♣♣       \n",
            "        ♠♠♠        \n",
            "         ♡         \n"
          ]
        }
      ]
    },
    {
      "cell_type": "code",
      "source": [
        "symbols = ['\\u2660','\\u2661','\\u2662','\\u2663']\n",
        "print(len(symbols))"
      ],
      "metadata": {
        "colab": {
          "base_uri": "https://localhost:8080/"
        },
        "id": "gwnnIZe0u_4U",
        "outputId": "07b3285f-174f-45f8-c352-20ccf732c811"
      },
      "execution_count": null,
      "outputs": [
        {
          "output_type": "stream",
          "name": "stdout",
          "text": [
            "4\n"
          ]
        }
      ]
    },
    {
      "cell_type": "code",
      "source": [
        "total = 0\n",
        "i = 0\n",
        "while i < 10:\n",
        "    total = total + (i+1)\n",
        "    print(total)\n",
        "    i = i +1"
      ],
      "metadata": {
        "id": "SkU_WLCGHInv"
      },
      "execution_count": null,
      "outputs": []
    },
    {
      "cell_type": "code",
      "source": [
        "# a / b = 0.2\n",
        "a, b = 2, 7\n",
        "ans = \"0.\"\n",
        "i = 0\n",
        "while i < 10: #回圈10次，從0開始（10位數）\n",
        "    # 2 > 20\n",
        "    a10 = a * 10\n",
        "    # 20 // 7 > 0.2\n",
        "    ans = ans + str(a10 // b)\n",
        "    # 20 % 7\n",
        "    a = a10 % 7\n",
        "    print(ans)\n",
        "    i = i + 1"
      ],
      "metadata": {
        "colab": {
          "base_uri": "https://localhost:8080/"
        },
        "id": "gO7ZBKZ1JVAw",
        "outputId": "2c0f9135-f934-4cff-c4c6-2ba2ab67609d"
      },
      "execution_count": null,
      "outputs": [
        {
          "output_type": "stream",
          "name": "stdout",
          "text": [
            "0.2\n",
            "0.28\n",
            "0.285\n",
            "0.2857\n",
            "0.28571\n",
            "0.285714\n",
            "0.2857142\n",
            "0.28571428\n",
            "0.285714285\n",
            "0.2857142857\n"
          ]
        }
      ]
    },
    {
      "cell_type": "code",
      "source": [
        "# a / b = 0.6\n",
        "a, b = 3, 5\n",
        "ans = \"0.\"\n",
        "i = 0\n",
        "while i < 10:\n",
        "    # 3 > 30\n",
        "    a10 = a * 10\n",
        "    # 30 // 5 > 0.6\n",
        "    ans = ans + str(a10 // b)\n",
        "    print(ans)\n",
        "     # 取餘數\n",
        "    a = a10 % 5\n",
        "    if a == 0: #餘數=0，在回圈10次內提前結束\n",
        "        break\n",
        "    i = i + 1"
      ],
      "metadata": {
        "colab": {
          "base_uri": "https://localhost:8080/"
        },
        "id": "vF5f8pWChYI7",
        "outputId": "34b82747-aa22-4009-a476-71716cd5ffe0"
      },
      "execution_count": null,
      "outputs": [
        {
          "output_type": "stream",
          "name": "stdout",
          "text": [
            "0.6\n"
          ]
        }
      ]
    },
    {
      "cell_type": "code",
      "source": [
        "# a / b = 7.1428571428\n",
        "a, b = 50, 7\n",
        "ans = str(a//b) + \".\" #先取商數\n",
        "a = a % b #再變成餘數\n",
        "i = 0\n",
        "while i < 10: #取10位數\n",
        "    # 1 > 10 #補0\n",
        "    a10 = a * 10\n",
        "    # 10 // 7 > 1.4 #取商\n",
        "    ans = ans + str(a10 // b)\n",
        "    print(ans)\n",
        "    # 取餘數，餘數=0停止回圈\n",
        "    a = a10 % 7\n",
        "    if a == 0:\n",
        "        break\n",
        "    i = i + 1"
      ],
      "metadata": {
        "colab": {
          "base_uri": "https://localhost:8080/"
        },
        "id": "cv-5KruNi-OU",
        "outputId": "8ed5433f-0706-4d09-c889-1432b6139b9f"
      },
      "execution_count": null,
      "outputs": [
        {
          "output_type": "stream",
          "name": "stdout",
          "text": [
            "7.1\n",
            "7.14\n",
            "7.142\n",
            "7.1428\n",
            "7.14285\n",
            "7.142857\n",
            "7.1428571\n",
            "7.14285714\n",
            "7.142857142\n",
            "7.1428571428\n"
          ]
        }
      ]
    },
    {
      "cell_type": "code",
      "source": [
        "n = 19800229 #取前四位、取後四位，用商數餘數取數字\n",
        "year = n // 10000\n",
        "last4 = n % 10000 #取餘數\n",
        "day = last4 % 100\n",
        "month = last4 // 100 #取商數\n",
        "print(year, month, day)\n",
        "\n",
        "month_days = [31,28,31,30,31,30,31,31,30,31,30,31] #有關數字與位置，可用清單呈現取代表＊＊\n",
        "if 1 <= month <= 12:\n",
        "    if 1 <= day <= month_days[month-1]: #month_days有0-11位，最多11位\n",
        "        print(\"合理\")\n",
        "    else:\n",
        "        print(\"不合理日期（天）\")\n",
        "else:\n",
        "    print(\"不合理日期（月）\")\n"
      ],
      "metadata": {
        "colab": {
          "base_uri": "https://localhost:8080/"
        },
        "id": "ctraqAZtnbQ_",
        "outputId": "8dcd3022-a264-4e40-d571-2786757af53a"
      },
      "execution_count": null,
      "outputs": [
        {
          "output_type": "stream",
          "name": "stdout",
          "text": [
            "1980 2 29\n",
            "不合理日期（天）\n"
          ]
        }
      ]
    },
    {
      "cell_type": "code",
      "source": [
        "def is_leap_year(year): #閏月包成函式\n",
        "    if year % 400 == 0: #每400閏年，嚴格的先寫，400是100 & 4的倍數＊＊\n",
        "        return True\n",
        "    elif year % 100 == 0: #每100不閏年\n",
        "        return False\n",
        "    elif year % 4 == 0: #每4閏年\n",
        "        return True\n",
        "    else:\n",
        "        return False\n",
        "\n",
        "def is_valid_date(n): #將整個判斷有效日期，包成函式\n",
        "    year = n // 10000\n",
        "    last4 = n % 10000 #取餘數\n",
        "    day = last4 % 100\n",
        "    month = last4 // 100 #取商數\n",
        "    #print(year, month, day)\n",
        "\n",
        "    month_days = [31,28,31,30,31,30,31,31,30,31,30,31] #有關數字與位置，可用清單呈現取代表＊＊\n",
        "\n",
        "    if 1 <= month <= 12:\n",
        "        month_day = month_days[month-1] #month_days有0-11位，最多11位\n",
        "\n",
        "        #閏年\n",
        "        if month == 2 and is_leap_year(year) == True:\n",
        "            month_day = month_day+1 #天數28+1\n",
        "            return True\n",
        "        #平年\n",
        "        if 1 <= day <= month_day:\n",
        "            return True\n",
        "\n",
        "        else:\n",
        "            #print(\"不合理日期（天）\")\n",
        "            return False\n",
        "\n",
        "    else:\n",
        "        #print(\"不合理日期（月）\")\n",
        "        return False\n",
        "\n",
        "print(is_valid_date(19800229))\n",
        "\n",
        "#判斷完全平方日，顯示10次\n",
        "today = 20241231\n",
        "start = math.ceil(today ** 0.5) #math.ceil超過該值today的最小值，先找最小值的平方根\n",
        "count = 0\n",
        "while True:\n",
        "    date = start ** 2\n",
        "    if is_valid_date(date) == True:\n",
        "        print(start, date, \"是個完全平方日\")\n",
        "        count += 1\n",
        "    start = start + 1 #年份不斷往上加\n",
        "    if count == 10:\n",
        "        break"
      ],
      "metadata": {
        "colab": {
          "base_uri": "https://localhost:8080/"
        },
        "id": "H6Xx8bsi3UCA",
        "outputId": "4f5b4768-bf48-417d-a5e9-623712774687"
      },
      "execution_count": null,
      "outputs": [
        {
          "output_type": "stream",
          "name": "stdout",
          "text": [
            "True\n",
            "4899 24000201 是個完全平方日\n",
            "4984 24840256 是個完全平方日\n",
            "5016 25160256 是個完全平方日\n",
            "5265 27720225 是個完全平方日\n",
            "5557 30880249 是個完全平方日\n",
            "5671 32160241 是個完全平方日\n",
            "6735 45360225 是個完全平方日\n",
            "7985 63760225 是個完全平方日\n",
            "8015 64240225 是個完全平方日\n",
            "8297 68840209 是個完全平方日\n"
          ]
        }
      ]
    },
    {
      "cell_type": "code",
      "source": [
        "s = \"asdfsARIYFEPjhudep\"\n",
        "# 英文大小寫，統計有多少大小寫\n",
        "lcase, ucase = 0, 0 #次數\n",
        "i = 0\n",
        "while i < len(s): # i 的值小於字串 s 的長度，迴圈就會繼續執行，遍歷值\n",
        "    n = ord(s[i]) #s[i]存取字串 s 中索引為 i 的字元，順序值\n",
        "    if ord(\"A\") <= n <= ord(\"Z\"):\n",
        "        ucase = ucase + 1\n",
        "    elif ord(\"a\") <= n <= ord(\"z\"):\n",
        "        lcase = lcase + 1\n",
        "    i = i + 1\n",
        "print(ucase , lcase )\n"
      ],
      "metadata": {
        "colab": {
          "base_uri": "https://localhost:8080/"
        },
        "id": "RmukPCa8MWHS",
        "outputId": "cc84abe1-62f4-4b64-b9a1-21353593648f"
      },
      "execution_count": null,
      "outputs": [
        {
          "output_type": "stream",
          "name": "stdout",
          "text": [
            "7 11\n"
          ]
        }
      ]
    },
    {
      "cell_type": "code",
      "source": [
        "#統計大小寫字母，每一個字母有幾個\n",
        "s = \"frwfoikljGEWWBYEjmDWjp..r3342\"\n",
        "ucases = [0] * 26 #26個0代表26個字母的次數，因為要計算每一個字的次數，所以先給個位置list\n",
        "lcases = [0] * 26\n",
        "i = 0\n",
        "while i < len(s):\n",
        "    n = ord(s[i])\n",
        "    if ord(\"A\") <= n <= ord(\"Z\"):\n",
        "        # 65-90 > 0-25 ＃ucases = [0] * 26 有26個位置（0~25）\n",
        "        n = n - ord(\"A\")\n",
        "        ucases[n] = ucases[n] + 1 #讀取當前ucases[n]後，更新ucases[n](原本代表是0次），儲存新的出現次數＊＊＊＊\n",
        "    elif ord(\"a\") <= n <= ord(\"z\"):\n",
        "        # 97-122 > 0-25\n",
        "        n = n - ord(\"a\")\n",
        "        lcases[n] = lcases[n] + 1\n",
        "    i = i + 1\n",
        "print(ucases)\n",
        "print(lcases)\n",
        "\n",
        "#印出26行\n",
        "#A:5  a:3\n",
        "#char(97) > \"a\" , char(65) > \"A\"\n",
        "i = 0\n",
        "while i < len(ucases): #len(ucases)=26\n",
        "    c1, c2 = chr(i + ord(\"A\")), chr(i + ord(\"a\"))\n",
        "    n1, n2 = ucases[i], lcases[i] #ucases[i] 是大寫字母的出現次數（最終回圈完畢的數），因為第一輪回圈已經記錄\n",
        "    print(c1, n1, \"/\", c2, n2)\n",
        "    i = i + 1"
      ],
      "metadata": {
        "colab": {
          "base_uri": "https://localhost:8080/"
        },
        "id": "4O1y6B4URwL3",
        "outputId": "3596ba6b-0e0f-4b23-e472-b0202de9a33b"
      },
      "execution_count": null,
      "outputs": [
        {
          "output_type": "stream",
          "name": "stdout",
          "text": [
            "[0, 1, 0, 1, 2, 0, 1, 0, 0, 0, 0, 0, 0, 0, 0, 0, 0, 0, 0, 0, 0, 0, 3, 0, 1, 0]\n",
            "[0, 0, 0, 0, 0, 2, 0, 0, 1, 3, 1, 1, 1, 0, 1, 1, 0, 2, 0, 0, 0, 0, 1, 0, 0, 0]\n",
            "A 0 / a 0\n",
            "B 1 / b 0\n",
            "C 0 / c 0\n",
            "D 1 / d 0\n",
            "E 2 / e 0\n",
            "F 0 / f 2\n",
            "G 1 / g 0\n",
            "H 0 / h 0\n",
            "I 0 / i 1\n",
            "J 0 / j 3\n",
            "K 0 / k 1\n",
            "L 0 / l 1\n",
            "M 0 / m 1\n",
            "N 0 / n 0\n",
            "O 0 / o 1\n",
            "P 0 / p 1\n",
            "Q 0 / q 0\n",
            "R 0 / r 2\n",
            "S 0 / s 0\n",
            "T 0 / t 0\n",
            "U 0 / u 0\n",
            "V 0 / v 0\n",
            "W 3 / w 1\n",
            "X 0 / x 0\n",
            "Y 1 / y 0\n",
            "Z 0 / z 0\n"
          ]
        }
      ]
    },
    {
      "cell_type": "code",
      "source": [
        "import random\n",
        "\n",
        "#隨機一個整數：-1輸，0平手，1贏 （贏三把剪刀石頭布就贏了）\n",
        "trans=[\"lose\", \"even\", \"win\"]\n",
        "win, even, lose = 0, 0, 0\n",
        "\n",
        "#條件一： win<3\n",
        "#條件二：lose<3\n",
        "#當我還沒贏三次，而且對手還沒贏三次，就繼續玩\n",
        "while win < 3 and lose < 3: #回圈條件\n",
        "    result = random.randint(-1, 1)\n",
        "    print(trans[result+1]) #在list：trans裡面呈現位置\n",
        "    if result == -1:\n",
        "        lose+= 1\n",
        "    elif result == 0:\n",
        "        even+=1\n",
        "    elif result == 1:\n",
        "        win+=1\n",
        "\n",
        "if win > lose:\n",
        "    print(\"final: win\")\n",
        "else:\n",
        "    print(\"final:lose\")"
      ],
      "metadata": {
        "id": "jyMQQemeUI_Y",
        "colab": {
          "base_uri": "https://localhost:8080/"
        },
        "outputId": "3745cce8-97cd-458b-a524-bbd951b91a55"
      },
      "execution_count": null,
      "outputs": [
        {
          "output_type": "stream",
          "name": "stdout",
          "text": [
            "win\n",
            "lose\n",
            "lose\n",
            "even\n",
            "win\n",
            "win\n",
            "lose\n",
            "even\n",
            "lose\n",
            "win\n",
            "final:lose\n"
          ]
        }
      ]
    },
    {
      "cell_type": "code",
      "source": [
        "import random\n",
        "\n",
        "#隨機一個整數：-1輸，0平手，1贏 （贏三把剪刀石頭布就贏了）\n",
        "#while True & break一起使用，無限迴圈break\n",
        "trans=[\"lose\", \"even\", \"win\"]\n",
        "win, even, lose = 0, 0, 0\n",
        "\n",
        "while True: #回圈條件\n",
        "    result = random.randint(-1, 1)\n",
        "    print(trans[result+1]) #在list：trans裡面呈現位置\n",
        "    if result == -1:\n",
        "        lose = lose + 1\n",
        "    elif result == 0:\n",
        "        even = even + 1\n",
        "    elif result == 1:\n",
        "        win = win + 1\n",
        "\n",
        "    if win >= 3: #條件設立\n",
        "        print(\"final: win\")\n",
        "        break\n",
        "    elif lose >= 3:\n",
        "        print(\"final:lose\")\n",
        "        break\n",
        "\n",
        "# 最後一段不能這樣寫，這樣只會跑一次回圈，無法滿足條件 win>=3 or lose >=3\n",
        "# if win >= 3: #條件設立\n",
        "#   print(\"final: win\")\n",
        "# elif lose >= 3:\n",
        "#   print(\"final:lose\")\n",
        "# break"
      ],
      "metadata": {
        "colab": {
          "base_uri": "https://localhost:8080/"
        },
        "id": "8wP1_F-XfhvD",
        "outputId": "1a03c2ef-c358-45b7-90e8-153bc3ae32fc"
      },
      "execution_count": null,
      "outputs": [
        {
          "output_type": "stream",
          "name": "stdout",
          "text": [
            "lose\n",
            "even\n",
            "even\n",
            "win\n",
            "even\n",
            "even\n",
            "win\n",
            "even\n",
            "lose\n",
            "even\n",
            "win\n",
            "final: win\n"
          ]
        }
      ]
    },
    {
      "cell_type": "code",
      "source": [
        "#f is file創建檔案，一定要是檔案型態txt，w 寫入，編碼utf-8\n",
        "f = open(\"a.txt\", \"w\", encoding=\"utf-8\")\n",
        "f.write(\"abcde\") #寫入檔案\n",
        "f.write(\"\\n\") #\\n換行也算一個字\n",
        "f.close() #關閉檔案"
      ],
      "metadata": {
        "id": "9V1Ze26UhOx-"
      },
      "execution_count": 2,
      "outputs": []
    },
    {
      "cell_type": "code",
      "source": [
        "#資料夾檔案分隔都只用此斜線/(斜左邊)\n",
        "f = open(\"sample_data/README.md\", \"r\", encoding=\"utf-8\")\n",
        "content = f.read()\n",
        "print(content)\n",
        "f.close()"
      ],
      "metadata": {
        "colab": {
          "base_uri": "https://localhost:8080/"
        },
        "id": "rSW3lsxu2O9W",
        "outputId": "e24b69aa-7ab1-4e70-9210-32c581382344"
      },
      "execution_count": 3,
      "outputs": [
        {
          "output_type": "stream",
          "name": "stdout",
          "text": [
            "This directory includes a few sample datasets to get you started.\n",
            "\n",
            "*   `california_housing_data*.csv` is California housing data from the 1990 US\n",
            "    Census; more information is available at:\n",
            "    https://docs.google.com/document/d/e/2PACX-1vRhYtsvc5eOR2FWNCwaBiKL6suIOrxJig8LcSBbmCbyYsayia_DvPOOBlXZ4CAlQ5nlDD8kTaIDRwrN/pub\n",
            "\n",
            "*   `mnist_*.csv` is a small sample of the\n",
            "    [MNIST database](https://en.wikipedia.org/wiki/MNIST_database), which is\n",
            "    described at: http://yann.lecun.com/exdb/mnist/\n",
            "\n",
            "*   `anscombe.json` contains a copy of\n",
            "    [Anscombe's quartet](https://en.wikipedia.org/wiki/Anscombe%27s_quartet); it\n",
            "    was originally described in\n",
            "\n",
            "    Anscombe, F. J. (1973). 'Graphs in Statistical Analysis'. American\n",
            "    Statistician. 27 (1): 17-21. JSTOR 2682899.\n",
            "\n",
            "    and our copy was prepared by the\n",
            "    [vega_datasets library](https://github.com/altair-viz/vega_datasets/blob/4f67bdaad10f45e3549984e17e1b3088c731503d/vega_datasets/_data/anscombe.json).\n",
            "\n"
          ]
        }
      ]
    },
    {
      "cell_type": "code",
      "source": [
        "#list可反向操作\n",
        "scores = [30, 20, 60, 60, 40]\n",
        "print(sum(scores), min(scores), max(scores))\n",
        "\n",
        "#print(scores[len(scores)-1])\n",
        "print(scores[-1]) #最後一個\n",
        "print(scores[:4]) #從頭到第3個\n",
        "print(scores[1:]) #從第1個拿到最後\n",
        "print(scores[-1:0:-2]) #從最後一個往前，不包含最後"
      ],
      "metadata": {
        "colab": {
          "base_uri": "https://localhost:8080/"
        },
        "id": "GLnH_gJz_f3X",
        "outputId": "01789a00-2776-4ed3-9566-8604e4ce1167"
      },
      "execution_count": 8,
      "outputs": [
        {
          "output_type": "stream",
          "name": "stdout",
          "text": [
            "210 20 60\n",
            "40\n",
            "[30, 20, 60, 60]\n",
            "[20, 60, 60, 40]\n",
            "[40, 60]\n"
          ]
        }
      ]
    },
    {
      "cell_type": "code",
      "source": [
        "scores=[60, 80, 20, 30, 50]\n",
        "\n",
        "total = 0\n",
        "i = 0\n",
        "while i < len(scores):\n",
        "    s = scores[i]\n",
        "    if s >= 60:\n",
        "        total += 1\n",
        "    i += 1\n",
        "print(total)\n"
      ],
      "metadata": {
        "colab": {
          "base_uri": "https://localhost:8080/"
        },
        "id": "tMxxxeWXDAo3",
        "outputId": "0cb35591-612e-403f-90f4-6f00f61a3c36"
      },
      "execution_count": 15,
      "outputs": [
        {
          "output_type": "stream",
          "name": "stdout",
          "text": [
            "2\n"
          ]
        }
      ]
    },
    {
      "cell_type": "code",
      "source": [
        "scores=[60, 80, 20, 30, 50]\n",
        "\n",
        "total = 0\n",
        "for s in scores: #取代i += 1的遍歷行為\n",
        "    if s >= 60:\n",
        "        total += 1\n",
        "print(total)"
      ],
      "metadata": {
        "id": "avR_a1ZdE-1j"
      },
      "execution_count": null,
      "outputs": []
    },
    {
      "cell_type": "code",
      "source": [
        "#1~10加總\n",
        "scores=[1, 2, 3, 4, 5, 6, 7, 8, 9, 10]\n",
        "total = 0\n",
        "for i in scores:\n",
        "    total = i + total\n",
        "print(total)\n",
        "\n",
        "\n",
        "total = 0\n",
        "i = 0\n",
        "while i < 10:\n",
        "    total = total + (i +1) #i+1把位置多加一位\n",
        "    print(total)\n",
        "    i = i +1"
      ],
      "metadata": {
        "colab": {
          "base_uri": "https://localhost:8080/"
        },
        "id": "2V9RMt8oFpfD",
        "outputId": "43d133fc-a9f9-4d31-ba28-7ffacb73f18b"
      },
      "execution_count": 23,
      "outputs": [
        {
          "output_type": "stream",
          "name": "stdout",
          "text": [
            "55\n",
            "1\n",
            "3\n",
            "6\n",
            "10\n",
            "15\n",
            "21\n",
            "28\n",
            "36\n",
            "45\n",
            "55\n"
          ]
        }
      ]
    },
    {
      "cell_type": "code",
      "source": [
        "total = 0\n",
        "for i in range (1,11):\n",
        "    total = i + total\n",
        "print(total)"
      ],
      "metadata": {
        "colab": {
          "base_uri": "https://localhost:8080/"
        },
        "id": "_ElCiTVkGC4g",
        "outputId": "38208bd2-21f8-4a5f-c5e3-acc6c6aed212"
      },
      "execution_count": 21,
      "outputs": [
        {
          "output_type": "stream",
          "name": "stdout",
          "text": [
            "55\n"
          ]
        }
      ]
    },
    {
      "cell_type": "code",
      "source": [
        "text: abcdefghijklmonpqrstuvwxyz\n",
        "[15:3:-3] #p~d往回三個一跳 pmjg\n",
        "[ :3:-3] #從後面z開始往前到d，往回三個一跳，沒有特別寫（正負）數字，就依照最後正反向起始計算"
      ],
      "metadata": {
        "id": "UGFTPNufJq3J"
      },
      "execution_count": null,
      "outputs": []
    }
  ]
}